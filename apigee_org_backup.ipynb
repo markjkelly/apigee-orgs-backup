{
  "nbformat": 4,
  "nbformat_minor": 0,
  "metadata": {
    "colab": {
      "name": "apigee-org-backup.ipynb",
      "provenance": [],
      "private_outputs": true,
      "collapsed_sections": [
        "w5rfNbuSfC8J",
        "zKI-VW6ADlSE",
        "4twp1AMYNz7q",
        "6AAuE-QyQfqe"
      ],
      "toc_visible": true,
      "authorship_tag": "ABX9TyNUBN0879RlRdcxhTT3wODm",
      "include_colab_link": true
    },
    "kernelspec": {
      "name": "python3",
      "display_name": "Python 3"
    }
  },
  "cells": [
    {
      "cell_type": "markdown",
      "metadata": {
        "id": "view-in-github",
        "colab_type": "text"
      },
      "source": [
        "<a href=\"https://colab.research.google.com/github/markjkelly/apigee-orgs-backup/blob/master/apigee_org_backup.ipynb\" target=\"_parent\"><img src=\"https://colab.research.google.com/assets/colab-badge.svg\" alt=\"Open In Colab\"/></a>"
      ]
    },
    {
      "cell_type": "markdown",
      "metadata": {
        "id": "w5rfNbuSfC8J",
        "colab_type": "text"
      },
      "source": [
        "### 1. Set Apigee creds"
      ]
    },
    {
      "cell_type": "code",
      "metadata": {
        "id": "mFCizhf5AtJl",
        "colab_type": "code",
        "cellView": "form",
        "colab": {}
      },
      "source": [
        "#@markdown Enter Apigee Credentials and Organisation name\n",
        "#username = \"apigee username\" #@param {type:\"string\"}\n",
        "\n",
        "username = input(\"apigee username: \")\n",
        "\n",
        "from getpass import getpass\n",
        "password = getpass('apigee password: ')\n",
        "\n",
        "apigee_org_name = input(\"apigee org name: \")"
      ],
      "execution_count": 0,
      "outputs": []
    },
    {
      "cell_type": "markdown",
      "metadata": {
        "id": "mXraZUzQxDn1",
        "colab_type": "text"
      },
      "source": [
        "### 2. Clean up workspace"
      ]
    },
    {
      "cell_type": "code",
      "metadata": {
        "id": "tgrcJ_QktL8U",
        "colab_type": "code",
        "cellView": "both",
        "colab": {}
      },
      "source": [
        "%cd /content\n",
        "!rm -rf workspace"
      ],
      "execution_count": 0,
      "outputs": []
    },
    {
      "cell_type": "markdown",
      "metadata": {
        "id": "zKI-VW6ADlSE",
        "colab_type": "text"
      },
      "source": [
        "### 3. Create workspace, download Apigee Migrate Tool and install its dependencies"
      ]
    },
    {
      "cell_type": "code",
      "metadata": {
        "id": "R2RM5aYztOAf",
        "colab_type": "code",
        "cellView": "both",
        "colab": {}
      },
      "source": [
        "!mkdir workspace\n",
        "%cd workspace\n",
        "!git clone https://github.com/apigeecs/apigee-migrate-tool.git\n",
        "%cd apigee-migrate-tool\n",
        "!npm install\n",
        "!npm install -g grunt-cli"
      ],
      "execution_count": 0,
      "outputs": []
    },
    {
      "cell_type": "markdown",
      "metadata": {
        "id": "4twp1AMYNz7q",
        "colab_type": "text"
      },
      "source": [
        "### 4. Update config.js with org details"
      ]
    },
    {
      "cell_type": "code",
      "metadata": {
        "id": "Aa_OSm6QSlFz",
        "colab_type": "code",
        "colab": {}
      },
      "source": [
        "!sed -i -e 's/admin@google.com/'\"$username\"'/g' config.js\n",
        "!sed -i -e 's/SuperSecret123/'\"$password\"'/g' config.js\n",
        "!sed -i -e 's/org1/'\"$apigee_org_name\"'/g' config.js"
      ],
      "execution_count": 0,
      "outputs": []
    },
    {
      "cell_type": "markdown",
      "metadata": {
        "id": "6AAuE-QyQfqe",
        "colab_type": "text"
      },
      "source": [
        "### 5. Export org artifacts"
      ]
    },
    {
      "cell_type": "code",
      "metadata": {
        "id": "BAW0-wg9JDY8",
        "colab_type": "code",
        "colab": {}
      },
      "source": [
        "!grunt exportAll"
      ],
      "execution_count": 0,
      "outputs": []
    },
    {
      "cell_type": "markdown",
      "metadata": {
        "id": "e3dJ9ZW6iG5T",
        "colab_type": "text"
      },
      "source": [
        "### 6. Zip Artifcats"
      ]
    },
    {
      "cell_type": "code",
      "metadata": {
        "id": "Y-jHt-9_SErG",
        "colab_type": "code",
        "colab": {}
      },
      "source": [
        "import datetime as dt\n",
        "today = dt.datetime.strftime(dt.datetime.now(), \"%Y%m%d\")\n",
        "%cd /content\n",
        "!cp -a workspace/apigee-migrate-tool/data workspace/$apigee_org_name-dev-$today\n",
        "%cd /content/workspace\n",
        "zipfilename = apigee_org_name+\"-dev-\"+today\n",
        "!zip -r \"$zipfilename\".zip \"$zipfilename\"\n",
        "%cd /content/workspace\n",
        "!rm -rf $zipfilename\n",
        "!rm -rf apigee-migrate-tool"
      ],
      "execution_count": 0,
      "outputs": []
    }
  ]
}